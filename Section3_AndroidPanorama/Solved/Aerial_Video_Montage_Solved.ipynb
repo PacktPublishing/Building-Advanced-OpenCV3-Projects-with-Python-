{
 "cells": [
  {
   "cell_type": "markdown",
   "metadata": {},
   "source": [
    "### Testing the Environment"
   ]
  },
  {
   "cell_type": "code",
   "execution_count": 1,
   "metadata": {},
   "outputs": [
    {
     "name": "stdout",
     "output_type": "stream",
     "text": [
      "OpenCV version 3.1.0\n",
      "Numpy version 1.13.1\n",
      "Tensorflow version 1.3.0\n"
     ]
    }
   ],
   "source": [
    "# Testing the environment\n",
    "\n",
    "import cv2\n",
    "import numpy as np\n",
    "import tensorflow as tf\n",
    "\n",
    "print(\"OpenCV version\", cv2.__version__)\n",
    "\n",
    "print(\"Numpy version\", np.__version__)\n",
    "\n",
    "print(\"Tensorflow version\", tf.__version__)\n"
   ]
  },
  {
   "cell_type": "markdown",
   "metadata": {
    "collapsed": true
   },
   "source": [
    "#### Steps for Cosntructing Panorama\n",
    "\n",
    "> 1. Detect Keypoints\n",
    "\n",
    "> 2. Match the Descriptor between images\n",
    "\n",
    "> 3. Use ransac to estimate homography\n",
    "\n",
    "> 4. Apply perspective warping"
   ]
  },
  {
   "cell_type": "code",
   "execution_count": null,
   "metadata": {
    "collapsed": true
   },
   "outputs": [],
   "source": [
    "def get_image_features(image):\n",
    "    # converting the image to gray scale\n",
    "    gray = cv2.cvtColor(image,cv2.RGB2GRAY)\n",
    "    \n",
    "    # creating an instance of the SIFT feature descriptor\n",
    "    descriptor = cv2.xfeatures2d.SIFT_create()\n",
    "    \n",
    "    # getting thr features from the image (<keypoints>,<features>)\n",
    "    ret = descriptor.detectAndCompute(image,None)\n",
    "    \n",
    "    return ret\n",
    "\n",
    "def stitch(images):\n",
    "    \n",
    "    \n",
    "    "
   ]
  }
 ],
 "metadata": {
  "kernelspec": {
   "display_name": "Python 3",
   "language": "python",
   "name": "python3"
  },
  "language_info": {
   "codemirror_mode": {
    "name": "ipython",
    "version": 3
   },
   "file_extension": ".py",
   "mimetype": "text/x-python",
   "name": "python",
   "nbconvert_exporter": "python",
   "pygments_lexer": "ipython3",
   "version": "3.5.2"
  }
 },
 "nbformat": 4,
 "nbformat_minor": 2
}
